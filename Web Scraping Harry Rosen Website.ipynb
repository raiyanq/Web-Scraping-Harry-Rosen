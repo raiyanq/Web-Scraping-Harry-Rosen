{
 "cells": [
  {
   "cell_type": "code",
   "execution_count": 299,
   "metadata": {},
   "outputs": [],
   "source": [
    "#import appropriate libraries for web scraping and data science\n",
    "from urllib.request import urlopen as uReq\n",
    "from bs4 import BeautifulSoup as soup\n",
    "import pandas as pd\n",
    "import matplotlib.pyplot as plt"
   ]
  },
  {
   "cell_type": "code",
   "execution_count": 300,
   "metadata": {},
   "outputs": [],
   "source": [
    "my_url = 'https://www.harryrosen.com/en/clothing/c/new-clothing?pageSize=96'"
   ]
  },
  {
   "cell_type": "code",
   "execution_count": 301,
   "metadata": {},
   "outputs": [],
   "source": [
    "#Open a connection to retreive the page and close connection after\n",
    "uClient = uReq(my_url)\n",
    "page_html = uClient.read()\n",
    "uClient.close()"
   ]
  },
  {
   "cell_type": "code",
   "execution_count": 302,
   "metadata": {},
   "outputs": [
    {
     "data": {
      "text/plain": [
       "1"
      ]
     },
     "execution_count": 302,
     "metadata": {},
     "output_type": "execute_result"
    }
   ],
   "source": [
    "#Create a csv file for storing product information \n",
    "filename = \"products.csv\"\n",
    "f = open(filename, \"w\")\n",
    "\n",
    "headers = \"Brand,Product,Price\"\n",
    "f.write(headers)\n",
    "f.write(\"\\n\")"
   ]
  },
  {
   "cell_type": "code",
   "execution_count": 303,
   "metadata": {},
   "outputs": [],
   "source": [
    "#Scrape the HTML of the Harry Rosen New Products Page for information on brand, product name and price\n",
    "page_soup = soup(page_html, \"html.parser\")\n",
    "containers = page_soup.findAll(\"div\",{\"class\":\"hr-product-lister-grid-item-content-wp\"})\n",
    "\n",
    "#for each product in the website retreive the brand, name and price from the html and write to the csv file\n",
    "for container in containers:\n",
    "    brand = container.h3.text\n",
    "    product_name = container.h4.text\n",
    "    price = container.findAll(\"div\", {\"class\":\"hr-product-price\"})[0].text.strip()[1:-3].replace(\",\", \"\")\n",
    "    float(price)\n",
    "    #print(brand + ',' + product_name.replace(\",\", \"|\") + ',' + price + \"\\n\")\n",
    "    f.write(brand + ',' + product_name.replace(\",\", \"|\") + ',' + price + \"\\n\")"
   ]
  },
  {
   "cell_type": "code",
   "execution_count": 304,
   "metadata": {},
   "outputs": [],
   "source": [
    "#Create a pandas data frame from the csv file run the analysis on\n",
    "df = pd.read_csv(\"products.csv\")\n",
    "#print(df)"
   ]
  },
  {
   "cell_type": "code",
   "execution_count": 305,
   "metadata": {},
   "outputs": [
    {
     "name": "stdout",
     "output_type": "stream",
     "text": [
      "                    Price\n",
      "Brand                    \n",
      "Eton                  290\n",
      "Versace Collection    395\n",
      "Paul & Shark          495\n",
      "Diesel                498\n",
      "Moncler              1430\n",
      "Z Zegna              1698\n",
      "Giorgio Armani       3395\n",
      "Thom Browne          3650\n",
      "Brunello Cucinelli   5395\n",
      "Ermenegildo Zegna    6185\n",
      "Loro Piana          19310\n"
     ]
    }
   ],
   "source": [
    "#Group the results by the brand and find the maximum product price for each brand\n",
    "results = df.groupby(['Brand'])['Price'].max().reset_index()\n",
    "\n",
    "#sort results and set the index to Brand \n",
    "results_sorted = results.sort_values(by='Price')\n",
    "results_sorted.set_index(\"Brand\",drop=True,inplace=True)\n",
    "print(results_sorted)"
   ]
  },
  {
   "cell_type": "code",
   "execution_count": 306,
   "metadata": {},
   "outputs": [
    {
     "data": {
      "text/plain": [
       "<matplotlib.axes._subplots.AxesSubplot at 0x27b01b54e48>"
      ]
     },
     "execution_count": 306,
     "metadata": {},
     "output_type": "execute_result"
    },
    {
     "data": {
      "image/png": "[encoded data removed]",
      "text/plain": [
       "<Figure size 432x288 with 1 Axes>"
      ]
     },
     "metadata": {},
     "output_type": "display_data"
    }
   ],
   "source": [
    "#plot results using the matplotlib \n",
    "\n",
    "results_sorted.plot(kind='bar', figsize=(15, 10) title =\"Maximum Prices for each Brand on the Harry Rosen website\", stacked=True, colormap = 'Paired')"
   ]
  }
 ],
 "metadata": {
  "kernelspec": {
   "display_name": "Python 3",
   "language": "python",
   "name": "python3"
  },
  "language_info": {
   "codemirror_mode": {
    "name": "ipython",
    "version": 3
   },
   "file_extension": ".py",
   "mimetype": "text/x-python",
   "name": "python",
   "nbconvert_exporter": "python",
   "pygments_lexer": "ipython3",
   "version": "3.6.5"
  }
 },
 "nbformat": 4,
 "nbformat_minor": 2
}
