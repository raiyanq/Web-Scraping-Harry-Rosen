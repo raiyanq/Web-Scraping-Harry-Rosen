{
 "cells": [
  {
   "cell_type": "code",
   "execution_count": 348,
   "metadata": {},
   "outputs": [],
   "source": [
    "#import appropriate libraries for web scraping and data science\n",
    "from urllib.request import urlopen as uReq\n",
    "from bs4 import BeautifulSoup as soup\n",
    "import pandas as pd\n",
    "import matplotlib.pyplot as plt"
   ]
  },
  {
   "cell_type": "code",
   "execution_count": 349,
   "metadata": {},
   "outputs": [],
   "source": [
    "my_url = 'https://www.harryrosen.com/en/clothing/c/new-clothing?pageSize=96'"
   ]
  },
  {
   "cell_type": "code",
   "execution_count": 350,
   "metadata": {},
   "outputs": [],
   "source": [
    "#Open a connection to retreive the page and close connection after\n",
    "uClient = uReq(my_url)\n",
    "page_html = uClient.read()\n",
    "uClient.close()"
   ]
  },
  {
   "cell_type": "code",
   "execution_count": 351,
   "metadata": {},
   "outputs": [
    {
     "data": {
      "text/plain": [
       "1"
      ]
     },
     "execution_count": 351,
     "metadata": {},
     "output_type": "execute_result"
    }
   ],
   "source": [
    "#Create a csv file for storing product information \n",
    "filename = \"products.csv\"\n",
    "f = open(filename, \"w\")\n",
    "\n",
    "headers = \"Brand,Product,Price\"\n",
    "f.write(headers)\n",
    "f.write(\"\\n\")"
   ]
  },
  {
   "cell_type": "code",
   "execution_count": 352,
   "metadata": {},
   "outputs": [],
   "source": [
    "#Scrape the HTML of the Harry Rosen New Products Page for information on brand, product name and price\n",
    "page_soup = soup(page_html, \"html.parser\")\n",
    "containers = page_soup.findAll(\"div\",{\"class\":\"hr-product-lister-grid-item-content-wp\"})\n",
    "\n",
    "#for each product in the website retreive the brand, name and price from the html and write to the csv file\n",
    "for container in containers:\n",
    "    brand = container.h3.text\n",
    "    product_name = container.h4.text\n",
    "    price = container.findAll(\"div\", {\"class\":\"hr-product-price\"})[0].text.strip()[1:-3].replace(\",\", \"\")\n",
    "    float(price)\n",
    "    #print(brand + ',' + product_name.replace(\",\", \"|\") + ',' + price + \"\\n\")\n",
    "    f.write(brand + ',' + product_name.replace(\",\", \"|\") + ',' + price + \"\\n\")"
   ]
  },
  {
   "cell_type": "code",
   "execution_count": 353,
   "metadata": {},
   "outputs": [
    {
     "name": "stdout",
     "output_type": "stream",
     "text": [
      "                 Brand                               Product  Price\n",
      "0               Diesel                    Cotton Sport Shirt    178\n",
      "1    Ermenegildo Zegna                           Milano Suit   3295\n",
      "2                 Eton                  Slim Fit Dress Shirt    280\n",
      "3                 Eton          Contemporary Fit Dress Shirt    280\n",
      "4         Paul & Shark     Printed Cotton & Wool Blend Shirt    295\n",
      "5    Ermenegildo Zegna                           Milano Suit   3495\n",
      "6                 Eton                  Slim Fit Dress Shirt    290\n",
      "7                 Eton                  Slim Fit Dress Shirt    290\n",
      "8    Ermenegildo Zegna              Torino Multi-Season Suit   3295\n",
      "9              Z Zegna                    Drop 8 Turati Suit   1698\n",
      "10             Moncler                     Rodez Down Jacket   1430\n",
      "11         Thom Browne                          Cotton Shirt    590\n",
      "12   Ermenegildo Zegna             Milano Easy Sports Jacket   2995\n",
      "13  Brunello Cucinelli       Long-Sleeve Cashmere Blend Polo   1175\n",
      "14  Brunello Cucinelli                    Wool Blend Sweater   1145\n",
      "15   Ermenegildo Zegna           Cotton Blend Zip-Up Sweater    875\n",
      "16             Z Zegna                    Drop 8 Turati Suit   1698\n",
      "17   Ermenegildo Zegna                    Torino Trofeo Suit   3495\n",
      "18   Ermenegildo Zegna               Long-Sleeve Cotton Polo    475\n",
      "19             Z Zegna                    Drop 8 Turati Suit   1598\n",
      "20             Z Zegna                           Drop 8 Suit   1498\n",
      "21        Paul & Shark                Crew Neck Wool Sweater    395\n",
      "22      Giorgio Armani                        V-Neck T-Shirt    375\n",
      "23  Brunello Cucinelli                  Waterproof Down Coat   3895\n",
      "24        Paul & Shark         Cashmere & Wool Blend Sweater    495\n",
      "25             Z Zegna                    Drop 8 Turati Suit   1598\n",
      "26             Z Zegna                    Drop 8 Turati Suit   1498\n",
      "27             Z Zegna                    Drop 8 Turati Suit   1498\n",
      "28             Z Zegna                    Drop 8 Turati Suit   1598\n",
      "29  Brunello Cucinelli                  Waterproof Down Vest   1775\n",
      "..                 ...                                   ...    ...\n",
      "32   Ermenegildo Zegna           Cotton Blend Zip-Up Sweater    875\n",
      "33  Brunello Cucinelli       Long-Sleeve Cashmere Blend Polo   1175\n",
      "34   Ermenegildo Zegna                          Couture Suit   6185\n",
      "35   Ermenegildo Zegna                           Milano Suit   3295\n",
      "36      Giorgio Armani                        V-Neck T-Shirt    375\n",
      "37  Brunello Cucinelli                  Waterproof Down Vest   1775\n",
      "38             Z Zegna                           Drop 8 Suit   1498\n",
      "39  Brunello Cucinelli         Wool & Cashmere Bomber Jacket   5395\n",
      "40  Brunello Cucinelli    Long-Sleeve Virgin Wool Blend Polo   1175\n",
      "41          Loro Piana               Zip-Up Cashmere Sweater   3880\n",
      "42          Loro Piana                  Printed Cotton Shirt    680\n",
      "43          Loro Piana                     Storm System Vest   1540\n",
      "44          Loro Piana  Zip-Up Cashmere & Silk Blend Sweater   2600\n",
      "45          Loro Piana                   Cashmere Blend Coat  19310\n",
      "46          Loro Piana  Zip-Up Cashmere & Silk Blend Sweater   2600\n",
      "47          Loro Piana                        Slim Fit Jeans    780\n",
      "48          Loro Piana                     Storm System Vest   1540\n",
      "49          Loro Piana            Unstructured Sports Jacket   4330\n",
      "50          Loro Piana         Virgin Wool & Silk Blend Vest   2880\n",
      "51  Versace Collection                    Drawstring Joggers    395\n",
      "52          Loro Piana                      Cashmere Sweater   2140\n",
      "53          Loro Piana                        Slim Fit Jeans    780\n",
      "54  Brunello Cucinelli                      Skinny Fit Jeans    675\n",
      "55          Loro Piana                        Slim Fit Pants    780\n",
      "56              Diesel                     Krooley JoggJeans    498\n",
      "57          Loro Piana            Unstructured Sports Jacket   4330\n",
      "58   Ermenegildo Zegna      Half-Zip Cashmere & Silk Sweater   2150\n",
      "59          Loro Piana                        Slim Fit Jeans    780\n",
      "60         Thom Browne                    Down-Filled Jacket   3650\n",
      "61  Versace Collection                        Slim Fit Jeans    395\n",
      "\n",
      "[62 rows x 3 columns]\n"
     ]
    }
   ],
   "source": [
    "#Create a pandas data frame from the csv file run the analysis on\n",
    "df = pd.read_csv(\"products.csv\")\n",
    "print(df)"
   ]
  },
  {
   "cell_type": "code",
   "execution_count": null,
   "metadata": {},
   "outputs": [],
   "source": []
  },
  {
   "cell_type": "code",
   "execution_count": 354,
   "metadata": {},
   "outputs": [
    {
     "name": "stdout",
     "output_type": "stream",
     "text": [
      "                    Price\n",
      "Brand                    \n",
      "Eton                  290\n",
      "Versace Collection    395\n",
      "Paul & Shark          495\n",
      "Diesel                498\n",
      "Moncler              1430\n",
      "Z Zegna              1698\n",
      "Giorgio Armani       3395\n",
      "Thom Browne          3650\n",
      "Brunello Cucinelli   5395\n",
      "Ermenegildo Zegna    6185\n",
      "Loro Piana          19310\n"
     ]
    }
   ],
   "source": [
    "#Group the results by the brand and find the maximum product price for each brand\n",
    "results = df.groupby(['Brand'])['Price'].max().reset_index()\n",
    "\n",
    "#sort results and set the index to Brand \n",
    "results_sorted = results.sort_values(by='Price')\n",
    "results_sorted.set_index(\"Brand\",drop=True,inplace=True)\n",
    "print(results_sorted)"
   ]
  },
  {
   "cell_type": "code",
   "execution_count": 355,
   "metadata": {},
   "outputs": [
    {
     "data": {
      "text/plain": [
       "Text(0,0.5,'Price')"
      ]
     },
     "execution_count": 355,
     "metadata": {},
     "output_type": "execute_result"
    },
    {
     "data": {
      "image/png": "[encoded data removed]",
      "text/plain": [
       "<Figure size 756x504 with 1 Axes>"
      ]
     },
     "metadata": {},
     "output_type": "display_data"
    }
   ],
   "source": [
    "#plot results using the matplotlib \n",
    "ax = results_sorted.plot(kind='bar', title = \"Maximum Prices for each Brand on the Harry Rosen website\",figsize=(10.5, 7),legend=True, colormap = 'Paired')\n",
    "ax.set_xlabel(\"Brand\",fontsize=12)\n",
    "ax.set_ylabel(\"Price\",fontsize=12)\n"
   ]
  }
 ],
 "metadata": {
  "kernelspec": {
   "display_name": "Python 3",
   "language": "python",
   "name": "python3"
  },
  "language_info": {
   "codemirror_mode": {
    "name": "ipython",
    "version": 3
   },
   "file_extension": ".py",
   "mimetype": "text/x-python",
   "name": "python",
   "nbconvert_exporter": "python",
   "pygments_lexer": "ipython3",
   "version": "3.6.5"
  }
 },
 "nbformat": 4,
 "nbformat_minor": 2
}
