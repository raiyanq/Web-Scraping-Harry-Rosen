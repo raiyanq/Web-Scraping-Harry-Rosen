{
 "cells": [
  {
   "cell_type": "code",
   "execution_count": 7,
   "metadata": {},
   "outputs": [],
   "source": [
    "#import appropriate libraries for web scraping and data science\n",
    "from urllib.request import urlopen as uReq\n",
    "from bs4 import BeautifulSoup as soup\n",
    "import pandas as pd\n",
    "import matplotlib.pyplot as plt\n",
    "import matplotlib.pyplot as plt"
   ]
  },
  {
   "cell_type": "code",
   "execution_count": 8,
   "metadata": {},
   "outputs": [],
   "source": [
    "my_url = 'https://www.harryrosen.com/en/clothing/c/new-clothing?pageSize=96'"
   ]
  },
  {
   "cell_type": "code",
   "execution_count": 9,
   "metadata": {},
   "outputs": [],
   "source": [
    "#Open a connection to retreive the page and close connection after\n",
    "uClient = uReq(my_url)\n",
    "page_html = uClient.read()\n",
    "uClient.close()"
   ]
  },
  {
   "cell_type": "code",
   "execution_count": 10,
   "metadata": {},
   "outputs": [
    {
     "data": {
      "text/plain": [
       "1"
      ]
     },
     "execution_count": 10,
     "metadata": {},
     "output_type": "execute_result"
    }
   ],
   "source": [
    "filename = \"products.csv\"\n",
    "f = open(filename, \"w\")\n",
    "\n",
    "headers = \"Brand,Product,Price\"\n",
    "f.write(headers)\n",
    "f.write(\"\\n\")"
   ]
  },
  {
   "cell_type": "code",
   "execution_count": null,
   "metadata": {},
   "outputs": [],
   "source": []
  },
  {
   "cell_type": "code",
   "execution_count": 11,
   "metadata": {},
   "outputs": [
    {
     "name": "stdout",
     "output_type": "stream",
     "text": [
      "Diesel,Cotton Sport Shirt,178\n",
      "\n",
      "Z Zegna,Drop 8 Turati Suit,1698\n",
      "\n",
      "Eton,Slim Fit Dress Shirt,290\n",
      "\n",
      "Ermenegildo Zegna,Milano Suit,3295\n",
      "\n",
      "Eton,Contemporary Fit Dress Shirt,280\n",
      "\n",
      "Eton,Slim Fit Dress Shirt,280\n",
      "\n",
      "Thom Browne,Cotton Shirt,590\n",
      "\n",
      "Ermenegildo Zegna,Milano Suit,3495\n",
      "\n",
      "Ermenegildo Zegna,Torino Multi-Season Suit,3295\n",
      "\n",
      "Eton,Slim Fit Dress Shirt,290\n",
      "\n",
      "Paul & Shark,Printed Cotton & Wool Blend Shirt,295\n",
      "\n",
      "Moncler,Rodez Down Jacket,1430\n",
      "\n",
      "Ermenegildo Zegna,Long-Sleeve Cotton Polo,475\n",
      "\n",
      "Brunello Cucinelli,Wool Blend Sweater,1145\n",
      "\n",
      "Brunello Cucinelli,Long-Sleeve Cashmere Blend Polo,1175\n",
      "\n",
      "Brunello Cucinelli,Waterproof Down Vest,3025\n",
      "\n",
      "Ermenegildo Zegna,Cotton Blend Zip-Up Sweater,875\n",
      "\n",
      "Ermenegildo Zegna,Cotton Blend Zip-Up Sweater,875\n",
      "\n",
      "Brunello Cucinelli,Waterproof Down Vest,1775\n",
      "\n",
      "Brunello Cucinelli,Long-Sleeve Cashmere Blend Polo,1175\n",
      "\n",
      "Brunello Cucinelli,Waterproof Down Coat,3895\n",
      "\n",
      "Giorgio Armani,V-Neck T-Shirt,375\n",
      "\n",
      "Paul & Shark,Crew Neck Wool Sweater,395\n",
      "\n",
      "Paul & Shark,Cashmere & Wool Blend Sweater,495\n",
      "\n",
      "Giorgio Armani,V-Neck T-Shirt,375\n",
      "\n",
      "Z Zegna,Drop 8 Turati Suit,1698\n",
      "\n",
      "Giorgio Armani,Upton Unstructured Sports Jacket,3395\n",
      "\n",
      "Ermenegildo Zegna,Couture Suit,6185\n",
      "\n",
      "Ermenegildo Zegna,Torino Trofeo Suit,3495\n",
      "\n",
      "Ermenegildo Zegna,Milano Suit,3295\n",
      "\n",
      "Ermenegildo Zegna,Milano Easy Sports Jacket,2995\n",
      "\n",
      "Z Zegna,Drop 8 Turati Suit,1598\n",
      "\n",
      "Z Zegna,Drop 8 Turati Suit,1598\n",
      "\n",
      "Z Zegna,Drop 8 Turati Suit,1498\n",
      "\n",
      "Z Zegna,Drop 8 Turati Suit,1498\n",
      "\n",
      "Z Zegna,Drop 8 Turati Suit,1598\n",
      "\n",
      "Z Zegna,Drop 8 Suit,1498\n",
      "\n",
      "Brunello Cucinelli,Wool & Cashmere Bomber Jacket,5395\n",
      "\n",
      "Z Zegna,Drop 8 Suit,1498\n",
      "\n",
      "Brunello Cucinelli,Waterproof Down Vest,1775\n",
      "\n",
      "Brunello Cucinelli,Long-Sleeve Virgin Wool Blend Polo,1175\n",
      "\n",
      "Loro Piana,Zip-Up Cashmere Sweater,3880\n",
      "\n",
      "Loro Piana,Printed Cotton Shirt,680\n",
      "\n",
      "Loro Piana,Storm System Vest,1540\n",
      "\n",
      "Loro Piana,Storm System Vest,1540\n",
      "\n",
      "Loro Piana,Zip-Up Cashmere & Silk Blend Sweater,2600\n",
      "\n",
      "Diesel,Krooley JoggJeans,498\n",
      "\n",
      "Loro Piana,Cashmere Sweater,2140\n",
      "\n",
      "Loro Piana,Slim Fit Jeans,780\n",
      "\n",
      "Loro Piana,Slim Fit Jeans,780\n",
      "\n",
      "Brunello Cucinelli,Skinny Fit Jeans,675\n",
      "\n",
      "Loro Piana,Slim Fit Jeans,780\n",
      "\n",
      "Loro Piana,Zip-Up Cashmere & Silk Blend Sweater,2600\n",
      "\n",
      "Ermenegildo Zegna,Half-Zip Cashmere & Silk Sweater,2150\n",
      "\n",
      "Loro Piana,Slim Fit Pants,780\n",
      "\n",
      "Loro Piana,Virgin Wool & Silk Blend Vest,2880\n",
      "\n",
      "Versace Collection,Drawstring Joggers,395\n",
      "\n",
      "Thom Browne,Down-Filled Jacket,3650\n",
      "\n",
      "Versace Collection,Slim Fit Jeans,395\n",
      "\n",
      "Loro Piana,Unstructured Sports Jacket,4330\n",
      "\n",
      "Loro Piana,Unstructured Sports Jacket,4330\n",
      "\n",
      "Loro Piana,Cashmere Blend Coat,19310\n",
      "\n"
     ]
    }
   ],
   "source": [
    "page_soup = soup(page_html, \"html.parser\")\n",
    "containers = page_soup.findAll(\"div\",{\"class\":\"hr-product-lister-grid-item-content-wp\"})\n",
    "\n",
    "for container in containers:\n",
    "    brand = container.h3.text\n",
    "    product_name = container.h4.text\n",
    "    price = container.findAll(\"div\", {\"class\":\"hr-product-price\"})[0].text.strip()[1:-3].replace(\",\", \"\")\n",
    "    float(price)\n",
    "    print(brand + ',' + product_name.replace(\",\", \"|\") + ',' + price + \"\\n\")\n",
    "    f.write(brand + ',' + product_name.replace(\",\", \"|\") + ',' + price + \"\\n\")"
   ]
  },
  {
   "cell_type": "code",
   "execution_count": 12,
   "metadata": {},
   "outputs": [
    {
     "name": "stdout",
     "output_type": "stream",
     "text": [
      "                 Brand                               Product  Price\n",
      "0               Diesel                    Cotton Sport Shirt    178\n",
      "1              Z Zegna                    Drop 8 Turati Suit   1698\n",
      "2                 Eton                  Slim Fit Dress Shirt    290\n",
      "3    Ermenegildo Zegna                           Milano Suit   3295\n",
      "4                 Eton          Contemporary Fit Dress Shirt    280\n",
      "5                 Eton                  Slim Fit Dress Shirt    280\n",
      "6          Thom Browne                          Cotton Shirt    590\n",
      "7    Ermenegildo Zegna                           Milano Suit   3495\n",
      "8    Ermenegildo Zegna              Torino Multi-Season Suit   3295\n",
      "9                 Eton                  Slim Fit Dress Shirt    290\n",
      "10        Paul & Shark     Printed Cotton & Wool Blend Shirt    295\n",
      "11             Moncler                     Rodez Down Jacket   1430\n",
      "12   Ermenegildo Zegna               Long-Sleeve Cotton Polo    475\n",
      "13  Brunello Cucinelli                    Wool Blend Sweater   1145\n",
      "14  Brunello Cucinelli       Long-Sleeve Cashmere Blend Polo   1175\n",
      "15  Brunello Cucinelli                  Waterproof Down Vest   3025\n",
      "16   Ermenegildo Zegna           Cotton Blend Zip-Up Sweater    875\n",
      "17   Ermenegildo Zegna           Cotton Blend Zip-Up Sweater    875\n",
      "18  Brunello Cucinelli                  Waterproof Down Vest   1775\n",
      "19  Brunello Cucinelli       Long-Sleeve Cashmere Blend Polo   1175\n",
      "20  Brunello Cucinelli                  Waterproof Down Coat   3895\n",
      "21      Giorgio Armani                        V-Neck T-Shirt    375\n",
      "22        Paul & Shark                Crew Neck Wool Sweater    395\n",
      "23        Paul & Shark         Cashmere & Wool Blend Sweater    495\n",
      "24      Giorgio Armani                        V-Neck T-Shirt    375\n",
      "25             Z Zegna                    Drop 8 Turati Suit   1698\n",
      "26      Giorgio Armani      Upton Unstructured Sports Jacket   3395\n",
      "27   Ermenegildo Zegna                          Couture Suit   6185\n",
      "28   Ermenegildo Zegna                    Torino Trofeo Suit   3495\n",
      "29   Ermenegildo Zegna                           Milano Suit   3295\n",
      "..                 ...                                   ...    ...\n",
      "32             Z Zegna                    Drop 8 Turati Suit   1598\n",
      "33             Z Zegna                    Drop 8 Turati Suit   1498\n",
      "34             Z Zegna                    Drop 8 Turati Suit   1498\n",
      "35             Z Zegna                    Drop 8 Turati Suit   1598\n",
      "36             Z Zegna                           Drop 8 Suit   1498\n",
      "37  Brunello Cucinelli         Wool & Cashmere Bomber Jacket   5395\n",
      "38             Z Zegna                           Drop 8 Suit   1498\n",
      "39  Brunello Cucinelli                  Waterproof Down Vest   1775\n",
      "40  Brunello Cucinelli    Long-Sleeve Virgin Wool Blend Polo   1175\n",
      "41          Loro Piana               Zip-Up Cashmere Sweater   3880\n",
      "42          Loro Piana                  Printed Cotton Shirt    680\n",
      "43          Loro Piana                     Storm System Vest   1540\n",
      "44          Loro Piana                     Storm System Vest   1540\n",
      "45          Loro Piana  Zip-Up Cashmere & Silk Blend Sweater   2600\n",
      "46              Diesel                     Krooley JoggJeans    498\n",
      "47          Loro Piana                      Cashmere Sweater   2140\n",
      "48          Loro Piana                        Slim Fit Jeans    780\n",
      "49          Loro Piana                        Slim Fit Jeans    780\n",
      "50  Brunello Cucinelli                      Skinny Fit Jeans    675\n",
      "51          Loro Piana                        Slim Fit Jeans    780\n",
      "52          Loro Piana  Zip-Up Cashmere & Silk Blend Sweater   2600\n",
      "53   Ermenegildo Zegna      Half-Zip Cashmere & Silk Sweater   2150\n",
      "54          Loro Piana                        Slim Fit Pants    780\n",
      "55          Loro Piana         Virgin Wool & Silk Blend Vest   2880\n",
      "56  Versace Collection                    Drawstring Joggers    395\n",
      "57         Thom Browne                    Down-Filled Jacket   3650\n",
      "58  Versace Collection                        Slim Fit Jeans    395\n",
      "59          Loro Piana            Unstructured Sports Jacket   4330\n",
      "60          Loro Piana            Unstructured Sports Jacket   4330\n",
      "61          Loro Piana                   Cashmere Blend Coat  19310\n",
      "\n",
      "[62 rows x 3 columns]\n"
     ]
    }
   ],
   "source": [
    "df = pd.read_csv(\"products.csv\")\n",
    "print(df)\n",
    "\n"
   ]
  },
  {
   "cell_type": "code",
   "execution_count": 13,
   "metadata": {},
   "outputs": [
    {
     "name": "stdout",
     "output_type": "stream",
     "text": [
      "                 Brand  Price\n",
      "0   Brunello Cucinelli   5395\n",
      "1               Diesel    498\n",
      "2    Ermenegildo Zegna   6185\n",
      "3                 Eton    290\n",
      "4       Giorgio Armani   3395\n",
      "5           Loro Piana  19310\n",
      "6              Moncler   1430\n",
      "7         Paul & Shark    495\n",
      "8          Thom Browne   3650\n",
      "9   Versace Collection    395\n",
      "10             Z Zegna   1698\n"
     ]
    }
   ],
   "source": [
    "results = df.groupby(['Brand'])['Price'].max().reset_index()\n",
    "#results[\"Brand\"] = results.index\n",
    "#results.set_index('Brand')\n",
    "print(results)"
   ]
  },
  {
   "cell_type": "code",
   "execution_count": 14,
   "metadata": {},
   "outputs": [
    {
     "data": {
      "image/png": "[encoded data removed]",
      "text/plain": [
       "<Figure size 1080x720 with 1 Axes>"
      ]
     },
     "metadata": {},
     "output_type": "display_data"
    }
   ],
   "source": [
    "ax = results[['Brand','Price']].plot(kind='bar', title =\"Maximum Prices for each Brand on the Harry Rosen website\", figsize=(15, 10), legend=True, fontsize=12)\n",
    "ax.set_xlabel(\"Brand\", fontsize=12)\n",
    "ax.set_ylabel(\"Price\", fontsize=12)\n",
    "plt.show()"
   ]
  },
  {
   "cell_type": "code",
   "execution_count": null,
   "metadata": {},
   "outputs": [],
   "source": []
  },
  {
   "cell_type": "code",
   "execution_count": null,
   "metadata": {},
   "outputs": [],
   "source": []
  }
 ],
 "metadata": {
  "kernelspec": {
   "display_name": "Python 3",
   "language": "python",
   "name": "python3"
  },
  "language_info": {
   "codemirror_mode": {
    "name": "ipython",
    "version": 3
   },
   "file_extension": ".py",
   "mimetype": "text/x-python",
   "name": "python",
   "nbconvert_exporter": "python",
   "pygments_lexer": "ipython3",
   "version": "3.6.5"
  }
 },
 "nbformat": 4,
 "nbformat_minor": 2
}
